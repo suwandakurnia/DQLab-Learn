{
  "metadata": {
    "language_info": {
      "codemirror_mode": {
        "name": "python",
        "version": 3
      },
      "file_extension": ".py",
      "mimetype": "text/x-python",
      "name": "python",
      "nbconvert_exporter": "python",
      "pygments_lexer": "ipython3",
      "version": "3.8"
    },
    "kernelspec": {
      "name": "python",
      "display_name": "Python (Pyodide)",
      "language": "python"
    }
  },
  "nbformat_minor": 4,
  "nbformat": 4,
  "cells": [
    {
      "cell_type": "markdown",
      "source": "Memanggil Library Pandas",
      "metadata": {}
    },
    {
      "cell_type": "code",
      "source": "import pandas as pd\nimport numpy as np",
      "metadata": {
        "trusted": true
      },
      "execution_count": 2,
      "outputs": []
    },
    {
      "cell_type": "markdown",
      "source": "DataFrame & Series",
      "metadata": {}
    },
    {
      "cell_type": "code",
      "source": "# Series\nnumber_list = pd.Series([1, 2, 3, 4, 5, 6])\nprint(\"Series:\")\nprint(number_list)",
      "metadata": {
        "trusted": true
      },
      "execution_count": 3,
      "outputs": [
        {
          "name": "stdout",
          "text": "Series:\n0    1\n1    2\n2    3\n3    4\n4    5\n5    6\ndtype: int64\n",
          "output_type": "stream"
        }
      ]
    },
    {
      "cell_type": "code",
      "source": "# DataFrame\nmatrix = [[1, 2, 3],\n          ['a','b','c'],\n          [3, 4, 5],\n          ['d',4,6]]\nmatrix_list = pd.DataFrame(matrix)\nprint(\"DataFrame:\")\nprint(matrix_list)",
      "metadata": {
        "trusted": true
      },
      "execution_count": 4,
      "outputs": [
        {
          "name": "stdout",
          "text": "DataFrame:\n   0  1  2\n0  1  2  3\n1  a  b  c\n2  3  4  5\n3  d  4  6\n",
          "output_type": "stream"
        }
      ]
    },
    {
      "cell_type": "markdown",
      "source": "Atribut DataFrame & Series - Part 1",
      "metadata": {}
    },
    {
      "cell_type": "code",
      "source": "# Series\nnumber_list = pd.Series([1,2,3,4,5,6])\n# DataFrame\nmatrix_list = pd.DataFrame([[1,2,3],\n\t\t\t\t            ['a','b','c'],\n\t\t\t\t            [3,4,5],\n\t\t\t\t            ['d',4,6]])",
      "metadata": {
        "trusted": true
      },
      "execution_count": 5,
      "outputs": []
    },
    {
      "cell_type": "code",
      "source": "# [1] attribute .info()\nprint(\"[1] attribute .info()\")\nprint(matrix_list.info())",
      "metadata": {
        "trusted": true
      },
      "execution_count": 6,
      "outputs": [
        {
          "name": "stdout",
          "text": "[1] attribute .info()\n<class 'pandas.core.frame.DataFrame'>\nRangeIndex: 4 entries, 0 to 3\nData columns (total 3 columns):\n #   Column  Non-Null Count  Dtype \n---  ------  --------------  ----- \n 0   0       4 non-null      object\n 1   1       4 non-null      object\n 2   2       4 non-null      object\ndtypes: object(3)\nmemory usage: 116.0+ bytes\nNone\n",
          "output_type": "stream"
        }
      ]
    },
    {
      "cell_type": "code",
      "source": "# [2] attribute .shape\nprint(\"\\n[2] attribute .shape\")\nprint(\"    Shape dari number_list:\", number_list.shape)\nprint(\"    Shape dari matrix_list:\", matrix_list.shape)",
      "metadata": {
        "trusted": true
      },
      "execution_count": 7,
      "outputs": [
        {
          "name": "stdout",
          "text": "\n[2] attribute .shape\n    Shape dari number_list: (6,)\n    Shape dari matrix_list: (4, 3)\n",
          "output_type": "stream"
        }
      ]
    },
    {
      "cell_type": "code",
      "source": "# [3] attribute .dtypes\nprint(\"\\n[3] attribute .dtypes\")\nprint(\"    Tipe data number_list:\", number_list.dtypes)\nprint(\"    Tipe data matrix_list:\", matrix_list.dtypes)",
      "metadata": {
        "trusted": true
      },
      "execution_count": 8,
      "outputs": [
        {
          "name": "stdout",
          "text": "\n[3] attribute .dtypes\n    Tipe data number_list: int64\n    Tipe data matrix_list: 0    object\n1    object\n2    object\ndtype: object\n",
          "output_type": "stream"
        }
      ]
    },
    {
      "cell_type": "code",
      "source": "# [4] attribute .astype()\nprint(\"\\n[4] attribute .astype()\")\nprint(\"    Konversi number_list ke str:\", number_list.astype(\"str\"))\nprint(\"    Konversi matrix_list ke str:\", matrix_list.astype(\"str\"))",
      "metadata": {
        "trusted": true
      },
      "execution_count": 9,
      "outputs": [
        {
          "name": "stdout",
          "text": "\n[4] attribute .astype()\n    Konversi number_list ke str: 0    1\n1    2\n2    3\n3    4\n4    5\n5    6\ndtype: object\n    Konversi matrix_list ke str:    0  1  2\n0  1  2  3\n1  a  b  c\n2  3  4  5\n3  d  4  6\n",
          "output_type": "stream"
        }
      ]
    },
    {
      "cell_type": "markdown",
      "source": "Atribut DataFrame & Series - Part 2",
      "metadata": {}
    },
    {
      "cell_type": "code",
      "source": "# Series\nnumber_list = pd.Series([1,2,3,4,5,6])\n# DataFrame\nmatrix_list = pd.DataFrame([[1,2,3],\n\t\t\t\t            ['a','b','c'],\n\t\t\t\t            [3,4,5],\n\t\t\t\t            ['d',4,6]])\n# [5] attribute .copy()\nprint(\"[5] attribute .copy()\")\nnum_list = number_list.copy()\nprint(\"    Copy number_list ke num_list:\", num_list)\nmtr_list = matrix_list.copy()\nprint(\"    Copy matrix_list ke mtr_list:\", mtr_list)\t\n# [6] attribute .to_list()\nprint(\"[6] attribute .to_list()\")\nprint(number_list.to_list())\n# [7] attribute .unique()\nprint(\"[7] attribute .unique()\")\nprint(number_list.unique())",
      "metadata": {
        "trusted": true
      },
      "execution_count": 10,
      "outputs": [
        {
          "name": "stdout",
          "text": "[5] attribute .copy()\n    Copy number_list ke num_list: 0    1\n1    2\n2    3\n3    4\n4    5\n5    6\ndtype: int64\n    Copy matrix_list ke mtr_list:    0  1  2\n0  1  2  3\n1  a  b  c\n2  3  4  5\n3  d  4  6\n[6] attribute .to_list()\n[1, 2, 3, 4, 5, 6]\n[7] attribute .unique()\n[1 2 3 4 5 6]\n",
          "output_type": "stream"
        }
      ]
    },
    {
      "cell_type": "markdown",
      "source": "Atribut DataFrame & Series - Part 3",
      "metadata": {}
    },
    {
      "cell_type": "code",
      "source": "# Series\nnumber_list = pd.Series([1,2,3,4,5,6])\n# DataFrame\nmatrix_list = pd.DataFrame([[1,2,3],\n\t\t\t\t            ['a','b','c'],\n\t\t\t\t            [3,4,5],\n\t\t\t\t            ['d',4,6]])\n# [8] attribute .index\nprint(\"[8] attribute .index\")\nprint(\"    Index number_list:\", number_list.index)\nprint(\"    Index matrix_list:\", matrix_list.index)\t\n# [9] attribute .columns\nprint(\"[9] attribute .columns\")\nprint(\"    Column matrix_list:\", matrix_list.columns)\n# [10] attribute .loc\nprint(\"[10] attribute .loc\")\nprint(\"    .loc[0:1] pada number_list:\", number_list.loc[0:1])\nprint(\"    .loc[0:1] pada matrix_list:\", matrix_list.loc[0:1])\n# [11] attribute .iloc\nprint(\"[11] attribute .iloc\")\nprint(\"    iloc[0:1] pada number_list:\", number_list.iloc[0:1])\nprint(\"    iloc[0:1] pada matrix_list:\", matrix_list.iloc[0:1])\t",
      "metadata": {
        "trusted": true
      },
      "execution_count": 11,
      "outputs": [
        {
          "name": "stdout",
          "text": "[8] attribute .index\n    Index number_list: RangeIndex(start=0, stop=6, step=1)\n    Index matrix_list: RangeIndex(start=0, stop=4, step=1)\n[9] attribute .columns\n    Column matrix_list: RangeIndex(start=0, stop=3, step=1)\n[10] attribute .loc\n    .loc[0:1] pada number_list: 0    1\n1    2\ndtype: int64\n    .loc[0:1] pada matrix_list:    0  1  2\n0  1  2  3\n1  a  b  c\n[11] attribute .iloc\n    iloc[0:1] pada number_list: 0    1\ndtype: int64\n    iloc[0:1] pada matrix_list:    0  1  2\n0  1  2  3\n",
          "output_type": "stream"
        }
      ]
    },
    {
      "cell_type": "markdown",
      "source": "Creating Series & Dataframe from List",
      "metadata": {}
    },
    {
      "cell_type": "code",
      "source": "import pandas as pd\n# Creating series from list\nex_list = ['a',1,3,5,'c','d']\nex_series = pd.Series(ex_list)\nprint(ex_series)\n# Creating dataframe from list of list\nex_list_of_list = [[1, 'a', 'b', 'c'],\n                   [2.5, 'd', 'e', 'f'],\n\t\t           [5, 'g', 'h', 'i'],\n\t\t           [7.5, 'j', 10.5, 'l']]\nindex = ['dq', 'lab', 'kar', 'lan']\ncols = ['float', 'char', 'obj', 'char']\nex_df = pd.DataFrame(ex_list_of_list, index=index, columns=cols)\nprint(ex_df)",
      "metadata": {
        "trusted": true
      },
      "execution_count": 12,
      "outputs": [
        {
          "name": "stdout",
          "text": "0    a\n1    1\n2    3\n3    5\n4    c\n5    d\ndtype: object\n     float char   obj char\ndq     1.0    a     b    c\nlab    2.5    d     e    f\nkar    5.0    g     h    i\nlan    7.5    j  10.5    l\n",
          "output_type": "stream"
        }
      ]
    },
    {
      "cell_type": "code",
      "source": "",
      "metadata": {},
      "execution_count": null,
      "outputs": []
    }
  ]
}